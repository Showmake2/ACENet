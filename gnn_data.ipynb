{
 "cells": [
  {
   "cell_type": "code",
   "execution_count": 1,
   "id": "58f443d5-2296-487c-ab71-2e339736cf4a",
   "metadata": {},
   "outputs": [
    {
     "name": "stdout",
     "output_type": "stream",
     "text": [
      "tokenizers.__version__: 0.19.1\n",
      "transformers.__version__: 4.44.2\n"
     ]
    }
   ],
   "source": [
    "import os\n",
    "import numpy as np\n",
    "import pandas as pd\n",
    "from biopandas.pdb import PandasPdb\n",
    "from biopandas.mmcif import PandasMmcif\n",
    "import torch\n",
    "import dgl\n",
    "import tokenizers\n",
    "import transformers\n",
    "print(f\"tokenizers.__version__: {tokenizers.__version__}\")\n",
    "print(f\"transformers.__version__: {transformers.__version__}\")\n",
    "from transformers import AutoTokenizer, AutoModel, AutoConfig"
   ]
  },
  {
   "cell_type": "code",
   "execution_count": 2,
   "id": "1d851cf6-6a0f-4458-90ec-8eb744aff51c",
   "metadata": {},
   "outputs": [],
   "source": [
    "def get_distance_matrix(coords):\n",
    "    #输入氨基酸残基的平均3D坐标\n",
    "    #输出每两个氨基酸残基的欧式距离矩阵\n",
    "    diff_tensor = np.expand_dims(coords, axis=1) - np.expand_dims(coords, axis=0)\n",
    "    distance_matrix = np.sqrt(np.sum(np.power(diff_tensor, 2), axis=-1))\n",
    "    return distance_matrix\n",
    "\n",
    "def generate_graph(pdb_path, distance_threshold=8.0):\n",
    "    atom_df = PandasPdb().read_pdb(pdb_path)\n",
    "    atom_df = atom_df.df['ATOM']\n",
    "    residue_df = atom_df.groupby('residue_number', as_index=False)[['x_coord', 'y_coord', 'z_coord', 'b_factor']].mean().sort_values('residue_number')\n",
    "    coords = residue_df[['x_coord', 'y_coord', 'z_coord']].values\n",
    "    distance_matrix = get_distance_matrix(coords)\n",
    "    adj = distance_matrix < distance_threshold\n",
    "    u, v = np.nonzero(adj)\n",
    "    u, v = torch.from_numpy(u), torch.from_numpy(v)\n",
    "    graph = dgl.graph((u, v), num_nodes=len(coords))\n",
    "    return graph"
   ]
  },
  {
   "cell_type": "code",
   "execution_count": 3,
   "id": "2588a4a2-4b4b-4e59-bc48-05d87017bae0",
   "metadata": {},
   "outputs": [
    {
     "name": "stderr",
     "output_type": "stream",
     "text": [
      "Using cache found in /home/hongchang/.cache/torch/hub/facebookresearch_esm_main\n"
     ]
    }
   ],
   "source": [
    "import torch\n",
    "device = torch.device(\"cuda\" if torch.cuda.is_available() else \"cpu\")\n",
    "model, alphabet = torch.hub.load(\"facebookresearch/esm:main\", \"esm2_t33_650M_UR50D\")\n",
    "batch_converter = alphabet.get_batch_converter()\n",
    "model.to(device)\n",
    "model.eval()  # disables dropout for deterministic results\n",
    "def esm_encode(seq):\n",
    "    data = [(\"protein\", seq)]\n",
    "    batch_labels, batch_strs, batch_tokens = batch_converter(data)\n",
    "    batch_tokens = batch_tokens.to(device)\n",
    "    with torch.no_grad():\n",
    "        results = model(batch_tokens, repr_layers=[33], return_contacts=True)\n",
    "    token_representations = results[\"representations\"][33]\n",
    "    sequence_representation = token_representations.squeeze()[1:-1, :].cpu()\n",
    "    return sequence_representation "
   ]
  },
  {
   "cell_type": "markdown",
   "id": "ab8858e3-4e98-467f-8eab-ff0fd01d6647",
   "metadata": {},
   "source": [
    "def esm_encode(seq):\n",
    "    data = [(\"protein\", seq)]\n",
    "    batch_labels, batch_strs, batch_tokens = batch_converter(data)\n",
    "    with torch.no_grad():\n",
    "        results = model(batch_tokens, repr_layers=[33], return_contacts=True)\n",
    "    token_representations = results[\"representations\"][33]\n",
    "    sequence_representation = token_representations.squeeze()[1:-1, :]\n",
    "    return sequence_representation "
   ]
  },
  {
   "cell_type": "code",
   "execution_count": 4,
   "id": "5022a319-dd51-4676-bda3-e7d7b0d363ac",
   "metadata": {},
   "outputs": [],
   "source": [
    "aa_map = {'VAL': 'V', 'PRO': 'P', 'ASN': 'N', 'GLU': 'E', 'ASP': 'D', 'ALA': 'A', 'THR': 'T', 'SER': 'S',\n",
    "          'LEU': 'L', 'LYS': 'K', 'GLY': 'G', 'GLN': 'Q', 'ILE': 'I', 'PHE': 'F', 'CYS': 'C', 'TRP': 'W',\n",
    "          'ARG': 'R', 'TYR': 'Y', 'HIS': 'H', 'MET': 'M'}\n",
    "aa_props = pd.read_csv('aminoacids.csv').set_index('Letter')\n",
    "aa_props2 = aa_props[['Molecular Weight', 'Residue Weight', 'pKa1', 'pKb2', 'pl4', \n",
    "         'H', 'VSC', 'P1', 'P2', 'SASA', 'NCISC', 'carbon', 'hydrogen', 'nitrogen',\n",
    "       'oxygen', 'sulfur']]\n",
    "propp = ['pKa1', 'pKb2', 'pl4', 'H', 'VSC', 'P1', 'P2', 'SASA', 'NCISC', 'carbon', 'hydrogen', 'nitrogen', 'oxygen', 'sulfur']\n",
    "aa_props2 = aa_props2.fillna(aa_props2.mean())\n",
    "min_weight = np.min(aa_props2[['Molecular Weight', 'Residue Weight']].values)\n",
    "max_weight = np.max(aa_props2[['Molecular Weight', 'Residue Weight']].values)\n",
    "aa_props2[['Molecular Weight', 'Residue Weight']] = (aa_props2[['Molecular Weight', 'Residue Weight']] - min_weight) / (max_weight - min_weight)\n",
    "aa_props2[propp] = (aa_props2[propp]-aa_props2[propp].min()) / (aa_props2[propp].max()-aa_props2[propp].min())\n",
    "def physchem_encode(seq):\n",
    "    letter_index = list(seq)\n",
    "    encoded_seq = aa_props2.loc[letter_index].values\n",
    "    return encoded_seq.astype(np.float32)"
   ]
  },
  {
   "cell_type": "code",
   "execution_count": 5,
   "id": "30e18959-2038-47a3-b7d9-58ae6c09a492",
   "metadata": {},
   "outputs": [],
   "source": [
    "from Bio import SeqIO\n",
    "def get_protein_sequence_from_pdb(pdb_path):\n",
    "    with open(pdb_path, \"r\") as pdb_file:\n",
    "        for record in SeqIO.parse(pdb_file, \"pdb-atom\"):\n",
    "            return str(record.seq)"
   ]
  },
  {
   "cell_type": "code",
   "execution_count": 8,
   "id": "9f66bdbd-106b-47d9-a5c1-3910f729da13",
   "metadata": {},
   "outputs": [],
   "source": [
    "#突变体\n",
    "from tqdm import tqdm\n",
    "import warnings\n",
    "from Bio import BiopythonParserWarning\n",
    "def get_embedding(path_to_csv, root_dir):\n",
    "    df = pd.read_csv(path_to_csv)\n",
    "    os.environ[\"CUDA_VISIBLE_DEVICES\"] = \"0\" # \n",
    "    warnings.filterwarnings('ignore')\n",
    "    os.makedirs(root_dir, exist_ok=True)\n",
    "    \n",
    "    df['surface_aa_feature_path'] = None\n",
    "    df['seq_feature_path'] = None\n",
    "    df['graph_index'] = None\n",
    "    \n",
    "    graphs = []\n",
    "    \n",
    "    pdb = None\n",
    "    \n",
    "    for index,row in tqdm(df.iterrows(), total=len(df)): \n",
    "        try:\n",
    "            entry = row['entry']\n",
    "            pdb_path = f\"pdbs/{entry}.pdb\"\n",
    "            seq = get_protein_sequence_from_pdb(pdb_path)\n",
    "            graph = generate_graph(pdb_path)\n",
    "            graphs.append(graph)\n",
    "            graph_index = len(graphs) - 1\n",
    "\n",
    "            #sequence_encode\n",
    "            esm_encoded_seq = esm_encode(seq).cpu().numpy()\n",
    "            physchem_encoded_seq = physchem_encode(seq)\n",
    "            encoded_seq = np.concatenate([esm_encoded_seq , physchem_encoded_seq], axis=-1)\n",
    "            \n",
    "            seq_feature_path = f'seq_feature_{graph_index}'\n",
    "            wildtype_feature_path = 'seq_feature'\n",
    "            np.savez_compressed(root_dir+'/'+seq_feature_path, seq=encoded_seq)\n",
    "            \n",
    "            surface_index = row['surface_index']\n",
    "            surface_pos = np.zeros(graph.num_nodes())\n",
    "            position =eval(surface_index)\n",
    "            for pdb_position_index in position:\n",
    "                surface_pos[pdb_position_index-1] = 1\n",
    "            surface_pos = torch.tensor(surface_pos)\n",
    "    \n",
    "            encoded_surface = encoded_seq\n",
    "            encoded_surface[surface_pos == 0] = 0\n",
    "            \n",
    "            surface_aa_feature_path = f'surface_aa_feature_{index}'\n",
    "            np.savez_compressed(root_dir+'/'+surface_aa_feature_path, surface_aa_seq=encoded_surface, surface_pos=surface_pos)\n",
    "            df.loc[index, 'graph_index'] = graph_index\n",
    "            df.loc[index, 'surface_aa_feature_path'] = surface_aa_feature_path+'.npz'\n",
    "            df.loc[index, 'seq_feature_path'] = seq_feature_path+'.npz'\n",
    "        except Exception as e:\n",
    "            print(e)\n",
    "            df = df.drop(index)\n",
    "            continue\n",
    "    df.to_csv(root_dir+'/overview_df.csv')\n",
    "    dgl.save_graphs(root_dir+'/dgl_graph.bin', graphs)   "
   ]
  },
  {
   "cell_type": "code",
   "execution_count": 9,
   "id": "953c1572-f226-4424-a914-ebf632f415cd",
   "metadata": {},
   "outputs": [
    {
     "name": "stderr",
     "output_type": "stream",
     "text": [
      "100%|███████████████████████████████████████████████████████████████████████████████████████████████████████████████████████████████████████████████████████████████████████████████████████████████████████████████████████████████████████████████████████| 1/1 [00:02<00:00,  2.65s/it]\n"
     ]
    }
   ],
   "source": [
    "get_embedding('1fhe.csv', '1fhe')"
   ]
  },
  {
   "cell_type": "code",
   "execution_count": null,
   "id": "b92d7d7a-506e-4c03-b8b0-041e3b1d73a7",
   "metadata": {},
   "outputs": [],
   "source": []
  },
  {
   "cell_type": "code",
   "execution_count": null,
   "id": "6b5eb3e3-b2c6-477b-8136-2b2dd3738948",
   "metadata": {},
   "outputs": [],
   "source": []
  },
  {
   "cell_type": "code",
   "execution_count": null,
   "id": "e86ad29a-f1ab-4340-9a4c-7abbaf119f3d",
   "metadata": {},
   "outputs": [],
   "source": []
  },
  {
   "cell_type": "code",
   "execution_count": null,
   "id": "a1217f04-49e7-4c85-b076-c9fb2fe3d104",
   "metadata": {},
   "outputs": [],
   "source": []
  },
  {
   "cell_type": "code",
   "execution_count": null,
   "id": "25893c6c-e252-4788-a7cb-e0b726c77da7",
   "metadata": {},
   "outputs": [],
   "source": []
  },
  {
   "cell_type": "code",
   "execution_count": null,
   "id": "b3b2d56e-34fc-4f2d-b2e3-1cab4a8d7eef",
   "metadata": {},
   "outputs": [],
   "source": []
  },
  {
   "cell_type": "code",
   "execution_count": null,
   "id": "f26bbbe0-b431-42fb-b243-1aa9b2ed1186",
   "metadata": {},
   "outputs": [],
   "source": []
  },
  {
   "cell_type": "code",
   "execution_count": null,
   "id": "9ada764f-fc3a-4140-a466-90a0219b4cc6",
   "metadata": {},
   "outputs": [],
   "source": []
  },
  {
   "cell_type": "code",
   "execution_count": null,
   "id": "0dfd3134-8868-4a19-9011-54b374db9244",
   "metadata": {},
   "outputs": [],
   "source": []
  },
  {
   "cell_type": "code",
   "execution_count": null,
   "id": "038c8166-205b-43af-b9ce-8e8e91cdce4d",
   "metadata": {},
   "outputs": [],
   "source": []
  },
  {
   "cell_type": "code",
   "execution_count": null,
   "id": "1248214b-7f11-475b-9eef-8132eba876fe",
   "metadata": {},
   "outputs": [],
   "source": []
  },
  {
   "cell_type": "code",
   "execution_count": null,
   "id": "e53bda46-774a-4fe9-b700-3fda5c552750",
   "metadata": {},
   "outputs": [],
   "source": []
  },
  {
   "cell_type": "code",
   "execution_count": null,
   "id": "7947577c-282e-4970-98a0-82d9736d471d",
   "metadata": {},
   "outputs": [],
   "source": []
  }
 ],
 "metadata": {
  "kernelspec": {
   "display_name": "dgl-test",
   "language": "python",
   "name": "dgl-test1"
  },
  "language_info": {
   "codemirror_mode": {
    "name": "ipython",
    "version": 3
   },
   "file_extension": ".py",
   "mimetype": "text/x-python",
   "name": "python",
   "nbconvert_exporter": "python",
   "pygments_lexer": "ipython3",
   "version": "3.8.19"
  }
 },
 "nbformat": 4,
 "nbformat_minor": 5
}
