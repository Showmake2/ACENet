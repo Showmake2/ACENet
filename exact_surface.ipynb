{
 "cells": [
  {
   "cell_type": "code",
   "execution_count": 1,
   "id": "d3770a6d-fe37-466c-a7d2-7752c44afed4",
   "metadata": {},
   "outputs": [],
   "source": [
    "#获取表面氨基酸\n",
    "import numpy as np\n",
    "import os\n",
    "import Bio\n",
    "import shutil\n",
    "from Bio.PDB import * \n",
    "import sys\n",
    "import importlib\n",
    "from IPython.core.debugger import set_trace\n",
    "from Bio import SeqIO\n",
    "import pandas as pd\n",
    "from tqdm import tqdm\n",
    "import warnings\n",
    "from Bio import BiopythonParserWarning\n",
    "\n",
    "# Local includes\n",
    "from triangulation.computeMSMS import computeMSMS\n",
    "\n",
    "\n",
    "def get_surface_aa(path_to_pdb):\n",
    "    \n",
    "    vertices1, faces1, normals1, names1, areas1 = computeMSMS(path_to_pdb,\\\n",
    "            protonate=True)\n",
    "    \n",
    "    # 给定的列表\n",
    "    input_list = names1\n",
    "    \n",
    "    # 提取每个字符串的第3-5个元素并组成新列表\n",
    "    extracted_numbers = [x.split('_')[1] for x in input_list]\n",
    "    \n",
    "    # 去除重复的元素\n",
    "    aa_faces = list(set(extracted_numbers))\n",
    "    aa_faces = [int(x) for x in aa_faces]\n",
    "    return aa_faces\n",
    "\n",
    "def selected_surface_aa(surface_index, sequence):\n",
    "    # 假设这是你的氨基酸位号列表和原始蛋白质序列\n",
    "    amino_acid_positions = surface_index\n",
    "    protein_sequence = sequence\n",
    "    \n",
    "    #排序\n",
    "    amino_acid_positions.sort()\n",
    "    \n",
    "    # 根据位号筛选氨基酸\n",
    "    selected_amino_acids = [protein_sequence[pos-1] for pos in amino_acid_positions]\n",
    "    \n",
    "    # 组成新的序列\n",
    "    surface_aa_sequence = ''.join(selected_amino_acids)\n",
    "    # 打印结果\n",
    "    return surface_aa_sequence\n"
   ]
  },
  {
   "cell_type": "code",
   "execution_count": 2,
   "id": "7289cdec-9184-4e6a-9d2f-d725dc3eb604",
   "metadata": {},
   "outputs": [],
   "source": [
    "def get_protein_sequence_from_pdb(pdb_path):\n",
    "    with open(pdb_path, \"r\") as pdb_file:\n",
    "        for record in SeqIO.parse(pdb_file, \"pdb-atom\"):\n",
    "            return str(record.seq)"
   ]
  },
  {
   "cell_type": "code",
   "execution_count": 3,
   "id": "50678b30-5897-4a58-a54d-4bb912ad1ea7",
   "metadata": {},
   "outputs": [],
   "source": [
    "import pandas as pd\n",
    "import warnings\n",
    "from tqdm import tqdm\n",
    "\n",
    "def is_valid_protein_sequence(sequence):\n",
    "    \"\"\"\n",
    "    Check if the given sequence contains only the 20 standard amino acids.\n",
    "    \"\"\"\n",
    "    standard_amino_acids = set(\"ACDEFGHIKLMNPQRSTVWY\")  # Set of valid amino acids\n",
    "    return all(amino in standard_amino_acids for amino in sequence)\n",
    "\n",
    "def get_surface_pos(path_to_csv, output_csv):\n",
    "    df = pd.read_csv(path_to_csv)\n",
    "    \n",
    "    warnings.filterwarnings(\"ignore\")\n",
    "\n",
    "    surface_index_list = []\n",
    "    bad_data = []\n",
    "    \n",
    "    for index, row in tqdm(df.iterrows(), total=len(df)):\n",
    "        id = row['entry']\n",
    "        try:\n",
    "            seq = get_protein_sequence_from_pdb(f\"pdbs/{id}.pdb\")\n",
    "            if not is_valid_protein_sequence(seq):\n",
    "                bad_data.append(id)  \n",
    "                continue\n",
    "            surface_index = get_surface_aa(f\"pdbs/{id}.pdb\")\n",
    "            surface_index_list.append(surface_index)\n",
    "            \n",
    "        except Exception as e:\n",
    "            print(e)\n",
    "            bad_data.append(id) \n",
    "            continue\n",
    "    print(bad_data)  \n",
    "    df[\"surface_index\"] = surface_index_list\n",
    "    df.to_csv(f'{output_csv}', index=False)"
   ]
  },
  {
   "cell_type": "code",
   "execution_count": 5,
   "id": "4f063b39-6894-46fe-81e6-3bdc6c8adfca",
   "metadata": {},
   "outputs": [
    {
     "name": "stderr",
     "output_type": "stream",
     "text": [
      "100%|███████████████████████████████████████████████████████████████████████████████████████████████████████████████████████████████████████████████████████████████████████████████████████████████████████████████████████████████████████████████████████| 1/1 [00:00<00:00,  1.04it/s]"
     ]
    },
    {
     "name": "stdout",
     "output_type": "stream",
     "text": [
      "[]\n"
     ]
    },
    {
     "name": "stderr",
     "output_type": "stream",
     "text": [
      "\n"
     ]
    }
   ],
   "source": [
    "get_surface_pos('1fhe.csv', '1fhe.csv')"
   ]
  },
  {
   "cell_type": "code",
   "execution_count": null,
   "id": "9612c6f6-a320-414d-bc25-d9d25cc49b0c",
   "metadata": {},
   "outputs": [],
   "source": []
  }
 ],
 "metadata": {
  "kernelspec": {
   "display_name": "dgl-test",
   "language": "python",
   "name": "dgl-test1"
  },
  "language_info": {
   "codemirror_mode": {
    "name": "ipython",
    "version": 3
   },
   "file_extension": ".py",
   "mimetype": "text/x-python",
   "name": "python",
   "nbconvert_exporter": "python",
   "pygments_lexer": "ipython3",
   "version": "3.8.19"
  }
 },
 "nbformat": 4,
 "nbformat_minor": 5
}
